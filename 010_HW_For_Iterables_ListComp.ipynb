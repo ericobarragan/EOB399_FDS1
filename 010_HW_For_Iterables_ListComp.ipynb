{
 "cells": [
  {
   "cell_type": "markdown",
   "id": "24b111b2",
   "metadata": {},
   "source": [
    "1. Lists:\n",
    "a) Write a program (i.e. code cell) that takes a list of numbers and prints each number multiplied by 2.\n",
    "\n",
    "Example Input: [2, 4, 6, 8]\n",
    "\n",
    "Example Output:\n",
    "\n",
    "4\n",
    "8\n",
    "12\n",
    "16"
   ]
  },
  {
   "cell_type": "code",
   "execution_count": 29,
   "id": "4bbf06ee",
   "metadata": {},
   "outputs": [
    {
     "name": "stdout",
     "output_type": "stream",
     "text": [
      "A)\n",
      "4\n",
      "8\n",
      "12\n",
      "16\n"
     ]
    }
   ],
   "source": [
    "print(\"A)\")\n",
    "lst = [2,4,6,8]\n",
    "for i in lst:\n",
    "    print(i*2)"
   ]
  },
  {
   "cell_type": "markdown",
   "id": "44bf1db5",
   "metadata": {},
   "source": [
    "b) Given a list of strings, write a program that prints out the elements of the string in reverse order without reversing the list itself.\n",
    "\n",
    "Example Input: [\"apple\", \"pear\", \"kiwi\", \"grape\"]\n",
    "\n",
    "Example Output:\n",
    "\n",
    "grape\n",
    "kiwi\n",
    "pear\n",
    "apple\n"
   ]
  },
  {
   "cell_type": "code",
   "execution_count": 28,
   "id": "088aafd4",
   "metadata": {},
   "outputs": [
    {
     "name": "stdout",
     "output_type": "stream",
     "text": [
      "B)\n",
      "['grape', 'kiwi', 'pear', 'apple']\n"
     ]
    }
   ],
   "source": [
    "print(\"B)\")\n",
    "lst = [\"apple\", \"pear\", \"kiwi\", \"grape\"]\n",
    "reversed_list = []\n",
    "for i in lst:\n",
    "    reversed_list = [i] + reversed_list\n",
    "print(reversed_list)\n"
   ]
  },
  {
   "cell_type": "markdown",
   "id": "c26ee467",
   "metadata": {},
   "source": [
    "2. Using the range() function:\n",
    "a) Write code that uses a for loop and the range() function to print numbers 0 through 9.\n",
    "\n",
    "b) Use the range() function to print numbers from 5 to 15.\n",
    "\n",
    "c) Create a program that prints out the first 10 even numbers using the range() function.\n",
    "\n"
   ]
  },
  {
   "cell_type": "code",
   "execution_count": 27,
   "id": "cc836100",
   "metadata": {},
   "outputs": [
    {
     "name": "stdout",
     "output_type": "stream",
     "text": [
      "A)\n",
      "\n",
      "0\n",
      "1\n",
      "2\n",
      "3\n",
      "4\n",
      "5\n",
      "6\n",
      "7\n",
      "8\n",
      "9\n",
      "\n",
      "B)\n",
      "\n",
      "5\n",
      "6\n",
      "7\n",
      "8\n",
      "9\n",
      "10\n",
      "11\n",
      "12\n",
      "13\n",
      "14\n",
      "15\n",
      "\n",
      "C)\n",
      "\n",
      "0\n",
      "2\n",
      "4\n",
      "6\n",
      "8\n",
      "10\n",
      "12\n",
      "14\n",
      "16\n",
      "18\n"
     ]
    }
   ],
   "source": [
    "print(\"A)\")\n",
    "print(\"\")\n",
    "for i in range(0, 10):\n",
    "    print(i)\n",
    "print(\"\")\n",
    "print(\"B)\")\n",
    "print(\"\")\n",
    "for i in range(5, 16):\n",
    "    print(i)\n",
    "print(\"\")\n",
    "print(\"C)\")\n",
    "print(\"\")\n",
    "for i in range(0, 20):\n",
    "    if i % 2 == 0:\n",
    "        print(i)\n",
    "    "
   ]
  },
  {
   "cell_type": "markdown",
   "id": "c46bf631",
   "metadata": {},
   "source": [
    "Part 2: Dictionaries and Loops\n",
    "a) Create a dictionary where the keys are student names and the values are their favorite colors. Write a program that prints out each student's name and their favorite color.\n",
    "\n",
    "Example Output:\n",
    "\n",
    "Alex's favorite color is Blue.\n",
    "Jordan's favorite color is Green.\n",
    "Taylor's favorite color is Red."
   ]
  },
  {
   "cell_type": "code",
   "execution_count": 41,
   "id": "b3af97c5",
   "metadata": {},
   "outputs": [
    {
     "name": "stdout",
     "output_type": "stream",
     "text": [
      "A)\n",
      "Alex's favorite color is Blue.\n",
      "Jordan's favorite color is Green.\n",
      "Taylor's favorite color is Red.\n"
     ]
    }
   ],
   "source": [
    "print(\"A)\")\n",
    "dictionary = {\"Alex\": \"Blue\", \"Jordan\": \"Green\", \"Taylor\": \"Red\"}\n",
    "for i in dictionary:\n",
    "    print(f'{i}\\'s favorite color is {dictionary[i]}.')\n"
   ]
  },
  {
   "cell_type": "markdown",
   "id": "167f6ce4",
   "metadata": {},
   "source": [
    "b) Given a dictionary with product names as keys and their quantities as values, write a program that doubles the quantity of each product and prints out the updated quantities.\n",
    "\n",
    "Example Input: {\"apple\": 5, \"banana\": 3, \"cherries\": 10}\n",
    "\n",
    "Example Output:\n",
    "\n",
    "apple now has 10.\n",
    "banana now has 6.\n",
    "cherries now have 20."
   ]
  },
  {
   "cell_type": "code",
   "execution_count": 42,
   "id": "48dd20ee",
   "metadata": {},
   "outputs": [
    {
     "name": "stdout",
     "output_type": "stream",
     "text": [
      "B)\n",
      "apple now has 10.\n",
      "banana now has 6.\n",
      "cherries now has 20.\n"
     ]
    }
   ],
   "source": [
    "print(\"B)\")\n",
    "dictionary = {\"apple\": 5, \"banana\": 3, \"cherries\": 10}\n",
    "for i in dictionary:\n",
    "    dictionary[i] = dictionary[i] * 2\n",
    "    print(f'{i} now has {dictionary[i]}.')"
   ]
  },
  {
   "cell_type": "markdown",
   "id": "3acd8aeb",
   "metadata": {},
   "source": [
    "Part 3: Storing Results of a For Loop in a New List and List Comprehensions\n",
    "1. not using list comprehension\n",
    "a) Write a program that takes a list of numbers and creates a new list with each number multiplied by 2.\n",
    "\n",
    "Example Input: [1, 3, 5, 7]\n",
    "\n",
    "Example Output (new list): [2, 6, 10, 14]"
   ]
  },
  {
   "cell_type": "code",
   "execution_count": 80,
   "id": "24c911c4",
   "metadata": {},
   "outputs": [
    {
     "name": "stdout",
     "output_type": "stream",
     "text": [
      "A)\n",
      "[2, 6, 10, 14]\n"
     ]
    }
   ],
   "source": [
    "print(\"A)\")\n",
    "lst = [1,3,5,7]\n",
    "new_lst = []\n",
    "for i in lst:\n",
    "    new_lst.append(i*2)\n",
    "print(new_lst)"
   ]
  },
  {
   "cell_type": "markdown",
   "id": "8cfe99eb",
   "metadata": {},
   "source": [
    "b) Given a list of words, create a new list that contains the first letter of each word.\n",
    "\n",
    "Example Input: [\"Apple\", \"Banana\", \"Cherry\", \"Date\"]\n",
    "\n",
    "Example Output (new list): [\"A\", \"B\", \"C\", \"D\"]"
   ]
  },
  {
   "cell_type": "code",
   "execution_count": 82,
   "id": "eb3c2c51",
   "metadata": {},
   "outputs": [
    {
     "name": "stdout",
     "output_type": "stream",
     "text": [
      "B)\n",
      "['A', 'B', 'C', 'D']\n"
     ]
    }
   ],
   "source": [
    "print(\"B)\")\n",
    "words = [\"Apple\", \"Banana\", \"Cherry\", \"Date\"]\n",
    "new_words = []\n",
    "for i in words:\n",
    "    new_words.append(i[0])\n",
    "print(new_words)\n",
    "    "
   ]
  },
  {
   "cell_type": "markdown",
   "id": "9083a643",
   "metadata": {},
   "source": [
    "2. using list comprehension\n",
    "c) Use a list comprehension to compute and save the square roots of a list of numbers from 1 to 10.\n",
    "\n",
    "Input list: [1, 2, 3, 4, 5, 6, 7, 8, 9, 10]\n",
    "\n",
    "Expected Output:\n",
    "\n",
    "[1.0,\n",
    " 1.4142135623730951,\n",
    " 1.7320508075688772,\n",
    " 2.0,\n",
    " 2.23606797749979,\n",
    " 2.449489742783178,\n",
    " 2.6457513110645907,\n",
    " 2.8284271247461903,\n",
    " 3.0,\n",
    " 3.1622776601683795]"
   ]
  },
  {
   "cell_type": "code",
   "execution_count": 83,
   "id": "ac686c38",
   "metadata": {},
   "outputs": [
    {
     "name": "stdout",
     "output_type": "stream",
     "text": [
      "C)\n",
      "[1.0, 1.4142135623730951, 1.7320508075688772, 2.0, 2.23606797749979, 2.449489742783178, 2.6457513110645907, 2.8284271247461903, 3.0, 3.1622776601683795]\n"
     ]
    }
   ],
   "source": [
    "print(\"C)\")\n",
    "lst = [1, 2, 3, 4, 5, 6, 7, 8, 9, 10]\n",
    "squares = [(i ** .5) for i in lst]\n",
    "print(squares)"
   ]
  },
  {
   "cell_type": "markdown",
   "id": "425cafc2",
   "metadata": {},
   "source": [
    "d) Given a list of words, use a list comprehension to create a new list containing the last letter of each word.\n",
    "\n",
    "Example Input: [\"apple\", \"pear\", \"kiwi\", \"grape\"]\n",
    "\n",
    "Expected Output: [\"e\", \"r\", \"i\", \"e\"]\n"
   ]
  },
  {
   "cell_type": "code",
   "execution_count": 84,
   "id": "90beae69",
   "metadata": {},
   "outputs": [
    {
     "name": "stdout",
     "output_type": "stream",
     "text": [
      "D)\n",
      "['e', 'r', 'i', 'e']\n"
     ]
    }
   ],
   "source": [
    "print(\"D)\")\n",
    "lst = [\"apple\", \"pear\", \"kiwi\", \"grape\"]\n",
    "new_lst = [i[-1] for i in lst]\n",
    "print(new_lst)"
   ]
  },
  {
   "cell_type": "markdown",
   "id": "da80c716",
   "metadata": {},
   "source": [
    "Part 4: nested loops\n",
    "a) Write some code to \"flatten\" the following list-of-lists-of-lists:\n",
    "\n",
    "deep_list = [[[1, 2, 3, 4], [5, 6, 7, 8]],\n",
    "            [[9, 10, 11, 12], [13, 14, 15, 16]],\n",
    "            [[17, 18, 19, 20], [21, 22, 23, 42]]]\n",
    "(that is, make into a simple list of ints)"
   ]
  },
  {
   "cell_type": "code",
   "execution_count": 73,
   "id": "5b1a87ec",
   "metadata": {},
   "outputs": [
    {
     "name": "stdout",
     "output_type": "stream",
     "text": [
      "A)\n",
      "[1, 2, 3, 4, 5, 6, 7, 8, 9, 10, 11, 12, 13, 14, 15, 16, 17, 18, 19, 20, 21, 22, 23, 42]\n"
     ]
    }
   ],
   "source": [
    "print(\"A)\")\n",
    "deep_list = [[[1, 2, 3, 4], [5, 6, 7, 8]],\n",
    "            [[9, 10, 11, 12], [13, 14, 15, 16]],\n",
    "            [[17, 18, 19, 20], [21, 22, 23, 42]]]\n",
    "flat_data = []\n",
    "for k in range(3):\n",
    "    for i in range(2):\n",
    "        for j in range(4):\n",
    "            num = deep_list[k][i][j]\n",
    "            flat_data.append(num)\n",
    "print(flat_data)"
   ]
  },
  {
   "cell_type": "markdown",
   "id": "dcb11893",
   "metadata": {},
   "source": [
    "b) Write code that, given a list of strings like this:\n",
    "\n",
    "myStrLst = [\"able\", \"was\", \"I\", \"ere\", \"I\", \"saw\", \"elba\"]\n",
    "reverses both the order of the strings in the list and the order of the letters in each string.\n",
    "\n",
    "Warning This one is tough, and requires you put together a few of the skills we've learned, so don't get frustrated if it takes you a lot of trial and error! That's what coding is often like!"
   ]
  },
  {
   "cell_type": "code",
   "execution_count": 79,
   "id": "aef09ef6",
   "metadata": {},
   "outputs": [
    {
     "name": "stdout",
     "output_type": "stream",
     "text": [
      "B)\n",
      "['able', 'was', 'I', 'ere', 'I', 'saw', 'elba']\n"
     ]
    }
   ],
   "source": [
    "print(\"B)\")\n",
    "myStrLst = [\"able\", \"was\", \"I\", \"ere\", \"I\", \"saw\", \"elba\"]\n",
    "reversed_str = []\n",
    "twice_reversed = []\n",
    "for i in myStrLst:\n",
    "    reversed_str = [i] + reversed_str\n",
    "for k in reversed_str:\n",
    "    twice_reversed = [k] + twice_reversed\n",
    "        \n",
    "print(twice_reversed)"
   ]
  },
  {
   "cell_type": "code",
   "execution_count": null,
   "id": "b9297676",
   "metadata": {},
   "outputs": [],
   "source": []
  }
 ],
 "metadata": {
  "kernelspec": {
   "display_name": "Python 3 (ipykernel)",
   "language": "python",
   "name": "python3"
  },
  "language_info": {
   "codemirror_mode": {
    "name": "ipython",
    "version": 3
   },
   "file_extension": ".py",
   "mimetype": "text/x-python",
   "name": "python",
   "nbconvert_exporter": "python",
   "pygments_lexer": "ipython3",
   "version": "3.11.4"
  }
 },
 "nbformat": 4,
 "nbformat_minor": 5
}
