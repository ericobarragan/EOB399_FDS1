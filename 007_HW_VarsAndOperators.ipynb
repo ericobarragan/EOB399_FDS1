{
 "cells": [
  {
   "cell_type": "markdown",
   "id": "0910b578",
   "metadata": {},
   "source": [
    "1. Variables and Assignment\n",
    "\n",
    "a) Declare a variable name and assign your name to it. Print the variable.\n",
    "\n",
    "b) Declare a variable age and assign your age to it. Print the variable.\n",
    "\n",
    "c) Swap the values of name and age without using a temporary variable. Print the new values of name and age."
   ]
  },
  {
   "cell_type": "code",
   "execution_count": 42,
   "id": "a8153e44",
   "metadata": {},
   "outputs": [
    {
     "name": "stdout",
     "output_type": "stream",
     "text": [
      "A)\n",
      "Eric\n",
      "\n",
      "B)\n",
      "20\n",
      "\n",
      "C)\n",
      "The variable name is now: 20\n",
      "The variable age is now: Eric\n"
     ]
    }
   ],
   "source": [
    "print(\"A)\")\n",
    "name = \"Eric\"\n",
    "print(name)\n",
    "print(\"\")\n",
    "print(\"B)\")\n",
    "age = '20'\n",
    "print(age)\n",
    "print(\"\")\n",
    "print(\"C)\")\n",
    "age, name = name, age\n",
    "print(\"The variable name is now:\",name)\n",
    "print(\"The variable age is now:\",age)"
   ]
  },
  {
   "cell_type": "markdown",
   "id": "9297c309",
   "metadata": {},
   "source": [
    "2. Data Types\n",
    "\n",
    "a) Using the type() function, determine and print the data type of the following values. Three of these will be new to you, but we'll cover them soon!\n",
    "b) Declare a variable is_student and assign it the value True if you're a student, otherwise False. Print the variable."
   ]
  },
  {
   "cell_type": "code",
   "execution_count": 43,
   "id": "c61de1bc",
   "metadata": {},
   "outputs": [
    {
     "name": "stdout",
     "output_type": "stream",
     "text": [
      "A)\n",
      "<class 'int'>\n",
      "<class 'float'>\n",
      "<class 'str'>\n",
      "<class 'list'>\n",
      "<class 'tuple'>\n",
      "<class 'set'>\n",
      "<class 'bool'>\n",
      "\n",
      "B)\n",
      "True\n"
     ]
    }
   ],
   "source": [
    "print(\"A)\")\n",
    "print(type(5))\n",
    "print(type(5.0))\n",
    "print(type(\"5\"))\n",
    "print(type([5]))\n",
    "print(type((5,)))\n",
    "print((type({5})))\n",
    "print(type(True))\n",
    "print(\"\")\n",
    "print(\"B)\")\n",
    "is_student = True\n",
    "print(is_student)"
   ]
  },
  {
   "cell_type": "markdown",
   "id": "25dd77d3",
   "metadata": {},
   "source": [
    "3. Basic Operators\n",
    "\n",
    "a) Using the +, -, *, and / operators, perform the following operations:\n",
    "\n",
    "Add 15 and 23\n",
    "Subtract 50 from 34\n",
    "Multiply 8 by 7\n",
    "Divide 100 by 4\n",
    "Print all results.\n",
    "\n",
    "b) Declare two variables a = 10 and b = 5. Calculate and print the following:\n",
    "\n",
    "The remainder when a is divided by b\n",
    "The result of a raised to the power of b\n"
   ]
  },
  {
   "cell_type": "code",
   "execution_count": 2,
   "id": "4ec8a451",
   "metadata": {},
   "outputs": [
    {
     "name": "stdout",
     "output_type": "stream",
     "text": [
      "A)\n",
      "38\n",
      "16\n",
      "56\n",
      "25.0\n",
      "\n",
      "B)\n",
      "0\n",
      "100000\n"
     ]
    }
   ],
   "source": [
    "print(\"A)\")\n",
    "print(15 + 23)\n",
    "print(50-34)\n",
    "print(8*7)\n",
    "print(100/4)\n",
    "print(\"\")\n",
    "print(\"B)\")\n",
    "a = 10\n",
    "b = 5\n",
    "\n",
    "print( a % b)\n",
    "print(a**b)\n",
    "\n"
   ]
  },
  {
   "cell_type": "markdown",
   "id": "479ea69a",
   "metadata": {},
   "source": [
    "4. Type Conversion\n",
    "\n",
    "a) Convert the string \"123\" to an integer and print the result.\n",
    "\n",
    "b) Convert the integer 456 to a string and print the result.\n",
    "\n",
    "c) Convert the float 78.9 to an integer. What value do you get?"
   ]
  },
  {
   "cell_type": "code",
   "execution_count": 8,
   "id": "7c3bbc7e",
   "metadata": {},
   "outputs": [
    {
     "name": "stdout",
     "output_type": "stream",
     "text": [
      "A)\n",
      "123\n",
      "\n",
      "B)\n",
      "456\n",
      "\n",
      "C)\n",
      "78\n"
     ]
    }
   ],
   "source": [
    "print(\"A)\")\n",
    "print(int(\"123\"))\n",
    "print(\"\")\n",
    "print(\"B)\")\n",
    "print((str(456)))\n",
    "\n",
    "print(\"\")\n",
    "print(\"C)\")\n",
    "print(int(78.9))"
   ]
  },
  {
   "cell_type": "markdown",
   "id": "e48a92c1",
   "metadata": {},
   "source": [
    "5. String Manipulation with Operators\n",
    "\n",
    "a) Concatenate (join) the following strings and print the result: \"Python\" and \"Rocks\".\n",
    "\n",
    "b) Repeat the string \"Hello \" three times using the multiplication operator. Print the result."
   ]
  },
  {
   "cell_type": "code",
   "execution_count": 10,
   "id": "7b7a5eb5",
   "metadata": {},
   "outputs": [
    {
     "name": "stdout",
     "output_type": "stream",
     "text": [
      "A)\n",
      "PythonRocks\n",
      "\n",
      "B)\n",
      "Hello Hello Hello \n"
     ]
    }
   ],
   "source": [
    "print(\"A)\")\n",
    "print(\"Python\" + \"Rocks\")\n",
    "print(\"\")\n",
    "print(\"B)\")\n",
    "print(\"Hello \"*3)"
   ]
  },
  {
   "cell_type": "markdown",
   "id": "92be6931",
   "metadata": {},
   "source": [
    "6. Bonus Question\n",
    "\n",
    "Declare three variables: x = 5, y = 10, and z = 15. Using only the arithmetic operators (+, -, *, /) and the variable names, swap the values of the variables such that x has the value of y, y has the value of z, and z has the value of x.\n",
    "\n",
    "(So, for example, x = x + z would be fair, but x = 20 would be cheating!)"
   ]
  },
  {
   "cell_type": "code",
   "execution_count": 13,
   "id": "48cb6d8b",
   "metadata": {},
   "outputs": [
    {
     "name": "stdout",
     "output_type": "stream",
     "text": [
      "5\n",
      "15\n",
      "10\n"
     ]
    }
   ],
   "source": [
    "x = 5\n",
    "y = 10\n",
    "z = 15\n",
    "\n",
    "z -= y\n",
    "print(z)\n",
    "y += x\n",
    "print(y)\n",
    "x += z\n",
    "print(x)"
   ]
  },
  {
   "cell_type": "code",
   "execution_count": null,
   "id": "cf75db2f",
   "metadata": {},
   "outputs": [],
   "source": []
  }
 ],
 "metadata": {
  "kernelspec": {
   "display_name": "Python 3 (ipykernel)",
   "language": "python",
   "name": "python3"
  },
  "language_info": {
   "codemirror_mode": {
    "name": "ipython",
    "version": 3
   },
   "file_extension": ".py",
   "mimetype": "text/x-python",
   "name": "python",
   "nbconvert_exporter": "python",
   "pygments_lexer": "ipython3",
   "version": "3.11.4"
  }
 },
 "nbformat": 4,
 "nbformat_minor": 5
}
