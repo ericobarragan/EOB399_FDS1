{
 "cells": [
  {
   "cell_type": "markdown",
   "id": "0c333d99",
   "metadata": {},
   "source": [
    "1. Indexing Strings:\n",
    "Given the string s = \"PYTHON\", retrieve and print the following:\n",
    "\n",
    "a) The first character\n",
    "b) The last character\n",
    "c) The string \"H\"\n",
    "d) The type of \"H\""
   ]
  },
  {
   "cell_type": "code",
   "execution_count": 5,
   "id": "6e1a946a",
   "metadata": {},
   "outputs": [
    {
     "name": "stdout",
     "output_type": "stream",
     "text": [
      "A)\n",
      "P\n",
      "\n",
      "B)\n",
      "N\n",
      "\n",
      "C)\n",
      "H\n",
      "\n",
      "D)\n",
      "<class 'str'>\n"
     ]
    }
   ],
   "source": [
    "s = \"PYTHON\"\n",
    "\n",
    "print(\"A)\")\n",
    "print(s[0])\n",
    "print(\"\")\n",
    "print(\"B)\")\n",
    "print(s[-1])\n",
    "print(\"\")\n",
    "print(\"C)\")\n",
    "print(s[3])\n",
    "print(\"\")\n",
    "print(\"D)\")\n",
    "print(type(s[3]))\n"
   ]
  },
  {
   "cell_type": "markdown",
   "id": "056ec61d",
   "metadata": {},
   "source": [
    "2. Indexing Tuples:\n",
    "Given the tuple t = (10, 20, 30, 40, 50, 60), retrieve and print the following:\n",
    "\n",
    "a) The first element\n",
    "b) The third element \n",
    "c) (Try to) Set the 3rd element to 30.4"
   ]
  },
  {
   "cell_type": "code",
   "execution_count": 10,
   "id": "760ed04f",
   "metadata": {},
   "outputs": [
    {
     "name": "stdout",
     "output_type": "stream",
     "text": [
      "A)\n",
      "10\n",
      "\n",
      "B\n",
      "30\n",
      "\n",
      "C)\n"
     ]
    },
    {
     "ename": "TypeError",
     "evalue": "'tuple' object does not support item assignment",
     "output_type": "error",
     "traceback": [
      "\u001b[0;31m---------------------------------------------------------------------------\u001b[0m",
      "\u001b[0;31mTypeError\u001b[0m                                 Traceback (most recent call last)",
      "Cell \u001b[0;32mIn[10], line 10\u001b[0m\n\u001b[1;32m      8\u001b[0m \u001b[38;5;28mprint\u001b[39m(\u001b[38;5;124m\"\u001b[39m\u001b[38;5;124m\"\u001b[39m)\n\u001b[1;32m      9\u001b[0m \u001b[38;5;28mprint\u001b[39m(\u001b[38;5;124m\"\u001b[39m\u001b[38;5;124mC)\u001b[39m\u001b[38;5;124m\"\u001b[39m)\n\u001b[0;32m---> 10\u001b[0m t[\u001b[38;5;241m3\u001b[39m] \u001b[38;5;241m=\u001b[39m \u001b[38;5;241m30.4\u001b[39m\n\u001b[1;32m     11\u001b[0m \u001b[38;5;28mprint\u001b[39m(t)\n",
      "\u001b[0;31mTypeError\u001b[0m: 'tuple' object does not support item assignment"
     ]
    }
   ],
   "source": [
    "t = (10, 20, 30, 40, 50, 60)\n",
    "\n",
    "print(\"A)\")\n",
    "print(t[0])\n",
    "print(\"\")\n",
    "print(\"B\")\n",
    "print(t[2])\n",
    "print(\"\")\n",
    "print(\"C)\")\n",
    "t[3] = 30.4\n",
    "print(t)\n"
   ]
  },
  {
   "cell_type": "markdown",
   "id": "1eaf7b53",
   "metadata": {},
   "source": [
    "3. Indexing Lists and Lists of Lists:\n",
    "Given the list lst = [5, 15, 25, [35, 45, [55, 65, 75], 85], 95], retrieve and print the following:\n",
    "\n",
    "a) The first element\n",
    "b) The last element\n",
    "c) The sublist [55, 65, 75] \n",
    "d) The number 65"
   ]
  },
  {
   "cell_type": "code",
   "execution_count": 31,
   "id": "73881f6a",
   "metadata": {},
   "outputs": [
    {
     "name": "stdout",
     "output_type": "stream",
     "text": [
      "A)\n",
      "5\n",
      "\n",
      "B)\n",
      "95\n",
      "\n",
      "C)\n",
      "[55, 65, 75]\n",
      "\n",
      "D)\n",
      "65\n"
     ]
    }
   ],
   "source": [
    "lst = [5, 15, 25, [35, 45, [55, 65, 75], 85], 95]\n",
    "\n",
    "print(\"A)\")\n",
    "print(lst[0])\n",
    "print(\"\")\n",
    "print(\"B)\")\n",
    "print(lst[-1])\n",
    "print(\"\")\n",
    "print(\"C)\")\n",
    "print(lst[3][2])\n",
    "print(\"\")\n",
    "print(\"D)\")\n",
    "tmp = lst[3][2]\n",
    "print(tmp[1])"
   ]
  },
  {
   "cell_type": "markdown",
   "id": "7057f8bb",
   "metadata": {},
   "source": [
    "4. Lists of Lists as Arrays:\n",
    "Consider a 3x3 matrix represented as a list of lists:\n",
    "\n",
    "matrix = [\n",
    "    [1, 2, 3],\n",
    "    [4, 5, 6],\n",
    "    [7, 8, 9]\n",
    "]\n",
    "a) Retrieve the second row.\n",
    "b) Retrieve the third column.\n",
    "c) Change the center element to 0 and print the modified matrix."
   ]
  },
  {
   "cell_type": "code",
   "execution_count": 34,
   "id": "9aed060f",
   "metadata": {},
   "outputs": [
    {
     "name": "stdout",
     "output_type": "stream",
     "text": [
      "A)\n",
      "[4, 5, 6]\n",
      "\n",
      "B)\n",
      "[7, 8, 9]\n",
      "\n",
      "C)\n",
      "[[1, 2, 3], [4, 0, 6], [7, 8, 9]]\n"
     ]
    }
   ],
   "source": [
    "matrix = [\n",
    "    [1, 2, 3],\n",
    "    [4, 5, 6],\n",
    "    [7, 8, 9]\n",
    "]\n",
    "print(\"A)\")\n",
    "print(matrix[1][:])\n",
    "print(\"\")\n",
    "print(\"B)\")\n",
    "print(matrix[2][:])\n",
    "print(\"\")\n",
    "print(\"C)\")\n",
    "matrix[1][1] = 0\n",
    "print(matrix)"
   ]
  },
  {
   "cell_type": "markdown",
   "id": "f7d0089d",
   "metadata": {},
   "source": [
    "5. Using Sets:\n",
    "Given two lists A = [1, 2, 2, 3, 4, 4, 5] and B = [4, 5, 5, 6, 7, 7,  8]:\n",
    "\n",
    "a) Create sets from both lists.\n",
    "b) Find the union of the two sets.\n",
    "c) Find the intersection of the two sets.\n",
    "d) Find the elements that are in A but not in B. \n",
    "e) Find the elements that are in A or B but not both.\n"
   ]
  },
  {
   "cell_type": "code",
   "execution_count": 42,
   "id": "2b50d644",
   "metadata": {},
   "outputs": [
    {
     "name": "stdout",
     "output_type": "stream",
     "text": [
      "A)\n",
      "{1, 2, 3, 4, 5}\n",
      "{4, 5, 6, 7, 8}\n",
      "\n",
      "B)\n",
      "{1, 2, 3, 4, 5, 6, 7, 8}\n",
      "\n",
      "C)\n",
      "{4, 5}\n",
      "\n",
      "D)\n",
      "{1, 2, 3}\n",
      "\n",
      "E)\n",
      "{1, 2, 3, 6, 7, 8}\n"
     ]
    }
   ],
   "source": [
    "A = [1, 2, 2, 3, 4, 4, 5]\n",
    "B = [4, 5, 5, 6, 7, 7, 8]\n",
    "print(\"A)\")\n",
    "A = set(A)\n",
    "B = set(B)\n",
    "print(A)\n",
    "print(B)\n",
    "print(\"\")\n",
    "print(\"B)\")\n",
    "print(A|B)\n",
    "print(\"\")\n",
    "print(\"C)\")\n",
    "print(A & B)\n",
    "print(\"\")\n",
    "print(\"D)\")\n",
    "print(A - B)\n",
    "print(\"\")\n",
    "print(\"E)\")\n",
    "print(A ^ B)\n"
   ]
  },
  {
   "cell_type": "markdown",
   "id": "ea12c235",
   "metadata": {},
   "source": [
    "6. Working with Dictionaries:\n",
    "Consider the following dictionary that represents the stock of items in a store:\n",
    "\n",
    "stock = {\n",
    "    \"apple\": 50,\n",
    "    \"banana\": 25,\n",
    "    \"orange\": 30,\n",
    "    \"grape\": 45\n",
    "}\n",
    "a) Retrieve the stock of apple.\n",
    "b) Add a new fruit, pear, with a stock of 40.\n",
    "c) Update the stock of banana to 30.\n",
    "d) Remove orange from the stock."
   ]
  },
  {
   "cell_type": "code",
   "execution_count": 50,
   "id": "a4abc319",
   "metadata": {},
   "outputs": [
    {
     "name": "stdout",
     "output_type": "stream",
     "text": [
      "A)\n",
      "50\n",
      "\n",
      "B)\n",
      "40\n",
      "\n",
      "C\n",
      "30\n",
      "\n",
      "D)\n",
      "{'apple': 50, 'banana': 30, 'grape': 45, 'pear': 40}\n"
     ]
    }
   ],
   "source": [
    "stock = {\n",
    "    \"apple\": 50,\n",
    "    \"banana\": 25,\n",
    "    \"orange\": 30,\n",
    "    \"grape\": 45\n",
    "}\n",
    "\n",
    "print(\"A)\")\n",
    "print(stock['apple'])\n",
    "print(\"\")\n",
    "print(\"B)\")\n",
    "stock['pear'] = 40\n",
    "print(stock['pear'])\n",
    "print(\"\")\n",
    "print(\"C\")\n",
    "stock['banana'] = 30\n",
    "print(stock['banana'])\n",
    "print(\"\")\n",
    "print(\"D)\")\n",
    "del stock['orange']\n",
    "print(stock)"
   ]
  }
 ],
 "metadata": {
  "kernelspec": {
   "display_name": "Python 3 (ipykernel)",
   "language": "python",
   "name": "python3"
  },
  "language_info": {
   "codemirror_mode": {
    "name": "ipython",
    "version": 3
   },
   "file_extension": ".py",
   "mimetype": "text/x-python",
   "name": "python",
   "nbconvert_exporter": "python",
   "pygments_lexer": "ipython3",
   "version": "3.11.4"
  }
 },
 "nbformat": 4,
 "nbformat_minor": 5
}
