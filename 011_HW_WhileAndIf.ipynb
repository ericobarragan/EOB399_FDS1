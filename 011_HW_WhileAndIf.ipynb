{
 "cells": [
  {
   "cell_type": "markdown",
   "id": "b4b4f7e8",
   "metadata": {},
   "source": [
    "0. Logic:\n",
    "\n",
    "a) Write come code that determines whether either of the letters in test_strs = [“y”, “o”] are in the string comp_str = “Hello World!”."
   ]
  },
  {
   "cell_type": "code",
   "execution_count": 29,
   "id": "7dc24ac6",
   "metadata": {},
   "outputs": [
    {
     "name": "stdout",
     "output_type": "stream",
     "text": [
      "A)\n",
      "o is in com_str\n"
     ]
    }
   ],
   "source": [
    "print(\"A)\")\n",
    "test_strs = ['y', 'o']\n",
    "comp_str = 'Hello World!'\n",
    "for value in test_strs:\n",
    "    if value in comp_str:\n",
    "        print(f'{value} is in com_str')"
   ]
  },
  {
   "cell_type": "markdown",
   "id": "04d53cd7",
   "metadata": {},
   "source": [
    "b) In logic and computing there is a comparison called an “exclusive or” or “xor”. An xor test produces True(or 1) only when one but not both of its inputs are True. Note that this is different than an or, which yields True if either input is true. Write a line of code that performs an xor on two Boolean variables, a and b, using the tests we know about: and, or, and not. Test you code for all four possible combinations of a and b."
   ]
  },
  {
   "cell_type": "code",
   "execution_count": 38,
   "id": "2f9965e0",
   "metadata": {},
   "outputs": [
    {
     "name": "stdout",
     "output_type": "stream",
     "text": [
      "B)\n",
      "True\n",
      "True\n",
      "True\n",
      "False\n"
     ]
    }
   ],
   "source": [
    "print(\"B)\")\n",
    "a = True\n",
    "b = False\n",
    "xor = bool(a) ^ bool(b)\n",
    "print(xor)\n",
    "\n",
    "\n",
    "a = False\n",
    "b = True\n",
    "xor = bool(a) ^ bool(b)\n",
    "print(xor)\n",
    "\n",
    "a = True\n",
    "b = False\n",
    "xor = bool(a) ^ bool(b)\n",
    "print(xor)\n",
    "\n",
    "a = True\n",
    "b = True\n",
    "xor = bool(a) ^ bool(b)\n",
    "print(xor)\n",
    "\n",
    "\n",
    "\n",
    "\n"
   ]
  },
  {
   "cell_type": "markdown",
   "id": "153a67cd",
   "metadata": {},
   "source": [
    "1. Age Category:\n",
    "\n",
    "Write a program that:\n",
    "\n",
    "a) Asks the user to input their age.\n",
    "b) Based on the age, classifies them into one of the following categories:\n",
    "\n",
    "Infant (0-2 years)\n",
    "Child (3-12 years)\n",
    "Teenager (13-19 years)\n",
    "Adult (20-64 years)\n",
    "Senior (65 years and above)\n",
    "Hint: Use the if-elif-else structure.\n"
   ]
  },
  {
   "cell_type": "code",
   "execution_count": 19,
   "id": "d5c908b6",
   "metadata": {},
   "outputs": [
    {
     "name": "stdout",
     "output_type": "stream",
     "text": [
      "A)\n",
      "What is your age: 1\n",
      "You are an infant\n"
     ]
    }
   ],
   "source": [
    "print(\"A)\")\n",
    "age = int(input(\"What is your age: \"))\n",
    "if 0 <= age <= 2:\n",
    "    print(\"You are an infant\")\n",
    "elif 3 <= age <= 12:\n",
    "    print(\"You are a child\")\n",
    "elif 13 <= age <= 19:\n",
    "    print(\"You are a teenager\")\n",
    "elif 20 <= age <= 64:\n",
    "    print(\"You are an adult\")\n",
    "else:\n",
    "    print(\"You are a senior\")"
   ]
  },
  {
   "cell_type": "markdown",
   "id": "6ef378bf",
   "metadata": {},
   "source": [
    "2. Number Classifier:\n",
    "\n",
    "Ask the user to input a number. Write a program to:\n",
    "\n",
    "a) Check if the number is positive, negative, or zero.\n",
    "b) Check if the number is even or odd.\n",
    "\n",
    "Sample output: “Your number, 42, is positive and even.\"\n",
    "\n",
    "—"
   ]
  },
  {
   "cell_type": "code",
   "execution_count": 28,
   "id": "999f1119",
   "metadata": {},
   "outputs": [
    {
     "name": "stdout",
     "output_type": "stream",
     "text": [
      "A) & B)\n",
      "Input a number: 2\n",
      "Your number, 2, is positive and even.\n"
     ]
    }
   ],
   "source": [
    "print(\"A) & B)\")\n",
    "number = int(input(\"Input a number: \"))\n",
    "check_1 = ''\n",
    "check_2 = ''\n",
    "if number > 0:\n",
    "    check_1 = 'positive'\n",
    "elif number == 0:\n",
    "    check_1 = 'zero'\n",
    "else:\n",
    "    check_1 = 'negative'\n",
    "    \n",
    "if number % 2 == 0:\n",
    "    check_2 = 'even'\n",
    "else:\n",
    "    check_2 = 'odd'\n",
    "    \n",
    "print(f'Your number, {number}, is {check_1} and {check_2}.')"
   ]
  },
  {
   "cell_type": "markdown",
   "id": "b9fcdb4e",
   "metadata": {},
   "source": [
    "3. Simple Calculator:\n",
    "\n",
    "Design a calculator that can perform addition, subtraction, multiplication, and division. The program should:\n",
    "\n",
    "a) Ask the user to input two numbers.\n",
    "b) Ask the user to select an operation.\n",
    "c) Perform the selected operation on the two numbers and display the result.\n",
    "\n",
    "Make sure to handle invalid operations with an appropriate error message."
   ]
  },
  {
   "cell_type": "code",
   "execution_count": 58,
   "id": "963d4f57",
   "metadata": {},
   "outputs": [
    {
     "name": "stdout",
     "output_type": "stream",
     "text": [
      "Enter your first number: 2\n",
      "Enter your second number: 1\n",
      "Menu\n",
      "(+) perform addition on both numbers\n",
      "(-) perform subtraction on both numbers\n",
      "(x) perform multiplication on both numbers\n",
      "(/) perform division on both numbers\n",
      "(q) quit program\n",
      "Please select an option above: +\n",
      "Your result is : 3\n",
      "Menu\n",
      "(+) perform addition on both numbers\n",
      "(-) perform subtraction on both numbers\n",
      "(x) perform multiplication on both numbers\n",
      "(/) perform division on both numbers\n",
      "(q) quit program\n",
      "Please select an option above: q\n"
     ]
    }
   ],
   "source": [
    "running = True\n",
    "while running:\n",
    "    try:\n",
    "        one = int(input(\"Enter your first number: \"))\n",
    "        running = False\n",
    "    except ValueError:\n",
    "        print(\"Enter a valid number\")\n",
    "running = True\n",
    "while running:\n",
    "    try:\n",
    "        two = int(input(\"Enter your second number: \"))\n",
    "        running = False\n",
    "    except ValueError:\n",
    "        print(\"Enter a valid number\")\n",
    "running = True\n",
    "while running:\n",
    "    print(\"Menu\")\n",
    "    print(\"(+) perform addition on both numbers\")\n",
    "    print(\"(-) perform subtraction on both numbers\")\n",
    "    print(\"(x) perform multiplication on both numbers\")\n",
    "    print(\"(/) perform division on both numbers\")\n",
    "    print(\"(q) quit program\")\n",
    "    option = input(\"Please select an option above: \")\n",
    "    lst = ['+', '-', 'x', '/', 'q']\n",
    "    result = 0\n",
    "    if option not in lst:\n",
    "        print(\"Incorrect option selected, try again...\")\n",
    "        continue\n",
    "    if option == 'q':\n",
    "        running = False\n",
    "        break\n",
    "    elif option == \"+\":\n",
    "        result = one + two\n",
    "        print(f'Your result is : {result}')\n",
    "    elif option == '-':\n",
    "        result = one - two\n",
    "        print(f'Your result is : {result}')\n",
    "    elif option == 'x':\n",
    "        result = one * two\n",
    "        print(f'Your result is : {result}')\n",
    "    elif option == '/':\n",
    "        if two == 0:\n",
    "            print(\"You cannot divide by 0, invalid operation\")\n",
    "            continue\n",
    "        else:\n",
    "            result = one / two\n",
    "            print(f'Your result is : {result}')\n",
    "\n",
    "\n",
    "        \n",
    "    \n",
    "    \n"
   ]
  },
  {
   "cell_type": "markdown",
   "id": "00e5a591",
   "metadata": {},
   "source": [
    "4. Guessing Game:\n",
    "\n",
    "a) The program should produce a random answer between 1 and 10.\n",
    "\n",
    "- use `import random` (we only have to do this once, at the top of the program)\n",
    "- then `answer = random.randint()` to get the random answer\n",
    "b) Ask the user to guess the number.\n",
    "c) Provide hints like \"Too High\" or \"Too Low\" based on the user's guess.\n",
    "d) The user should have some maximum number of attempts.\n",
    "e) After the maximum number of incorrect attempts or if the user guesses correctly, reveal the correct number."
   ]
  },
  {
   "cell_type": "code",
   "execution_count": 71,
   "id": "46401693",
   "metadata": {},
   "outputs": [
    {
     "name": "stdout",
     "output_type": "stream",
     "text": [
      "Correctly guess a number between 0 and 20\n",
      "You only have 5 tries at guessing the random number\n",
      "Enter your guess for the random number: 3\n",
      "Your answer is too low\n",
      "Enter your guess for the random number: 2\n",
      "Your answer is too low\n",
      "Enter your guess for the random number: 1\n",
      "Your answer is too low\n",
      "Enter your guess for the random number: 19\n",
      "Your answer is too high\n",
      "Enter your guess for the random number: 20\n",
      "Your answer is too high\n",
      "The correct answer was 11\n"
     ]
    }
   ],
   "source": [
    "import random\n",
    "answer = random.randint(0, 20)\n",
    "running = True\n",
    "print(\"Correctly guess a number between 0 and 20\")\n",
    "print(\"You only have 5 tries at guessing the random number\")\n",
    "while running:\n",
    "    for i in range(5):\n",
    "        guess = int(input(\"Enter your guess for the random number: \"))\n",
    "        if guess > answer:\n",
    "            print(\"Your answer is too high\")\n",
    "        elif guess < answer:\n",
    "            print(\"Your answer is too low\")\n",
    "        else:\n",
    "            print(f\"Your guess is correct: {answer}\")\n",
    "            break\n",
    "    if guess == answer:\n",
    "        running = False\n",
    "    else:\n",
    "        print(f'The correct answer was {answer}')\n",
    "        running = False\n",
    "    "
   ]
  },
  {
   "cell_type": "markdown",
   "id": "1915c892",
   "metadata": {},
   "source": [
    "5. Counter Contrast:\n",
    "\n",
    "Write two versions of a program that asks the user for a positive integer n and then prints the numbers from 1 up to n.\n",
    "\n",
    "a) First, use a for loop.\n",
    "b) Next, use a while loop.\n",
    "\n",
    "Which loop structure do you prefer in this context, and why?"
   ]
  },
  {
   "cell_type": "code",
   "execution_count": 74,
   "id": "e41029e0",
   "metadata": {},
   "outputs": [
    {
     "name": "stdout",
     "output_type": "stream",
     "text": [
      "Enter a positive integer: 9\n",
      "1\n",
      "2\n",
      "3\n",
      "4\n",
      "5\n",
      "6\n",
      "7\n",
      "8\n",
      "9\n"
     ]
    }
   ],
   "source": [
    "print(\"A)\")\n",
    "user = int(input(\"Enter a positive integer: \"))\n",
    "for i in range(1, user+1):\n",
    "    print(i)"
   ]
  },
  {
   "cell_type": "code",
   "execution_count": 76,
   "id": "98e9a838",
   "metadata": {},
   "outputs": [
    {
     "name": "stdout",
     "output_type": "stream",
     "text": [
      "B)\n",
      "Enter a positive integer: 9\n",
      "1\n",
      "2\n",
      "3\n",
      "4\n",
      "5\n",
      "6\n",
      "7\n",
      "8\n",
      "9\n"
     ]
    }
   ],
   "source": [
    "print(\"B)\")\n",
    "user = int(input(\"Enter a positive integer: \"))\n",
    "count = 1\n",
    "while count <= user:\n",
    "    print(count)\n",
    "    count +=1"
   ]
  },
  {
   "cell_type": "markdown",
   "id": "44b0b1c1",
   "metadata": {},
   "source": [
    "I feel like for this context I would use a for loop due to the low complexity of the program, however I do use while loops a lot more often in other use cases. "
   ]
  },
  {
   "cell_type": "markdown",
   "id": "34d7aa89",
   "metadata": {},
   "source": [
    "6. Multiplication Table:\n",
    "\n",
    "Write a program that:\n",
    "\n",
    "a) Asks the user for a number n.\n",
    "b) Generates and prints the multiplication table for the number up to 10.\n",
    "\n",
    "For example, if the user inputs 5, the output should be:\n",
    "\n",
    "5 x 1 = 5\n",
    "5 x 2 = 10\n",
    "...\n",
    "5 x 10 = 50\n",
    "Implement this twice:\n",
    "a) Using a for loop.\n",
    "b) Using a while loop.\n",
    "\n",
    "Which loop structure do you think is better in this context, and why?"
   ]
  },
  {
   "cell_type": "code",
   "execution_count": 4,
   "id": "5d009fc7",
   "metadata": {},
   "outputs": [
    {
     "name": "stdout",
     "output_type": "stream",
     "text": [
      "A)\n",
      "Enter a number for your multiplication table: 9\n",
      "9 x 1 = 9\n",
      "9 x 2 = 18\n",
      "9 x 3 = 27\n",
      "9 x 4 = 36\n",
      "9 x 5 = 45\n",
      "9 x 6 = 54\n",
      "9 x 7 = 63\n",
      "9 x 8 = 72\n",
      "9 x 9 = 81\n",
      "9 x 10 = 90\n"
     ]
    }
   ],
   "source": [
    "print(\"A)\")\n",
    "num = int(input(\"Enter a number for your multiplication table: \"))\n",
    "for i in range(1, 11):\n",
    "    print(f'{num} x {i} = {num * i}')"
   ]
  },
  {
   "cell_type": "code",
   "execution_count": 5,
   "id": "0c0fbcdf",
   "metadata": {},
   "outputs": [
    {
     "name": "stdout",
     "output_type": "stream",
     "text": [
      "B)\n",
      "Enter a number for your multiplication table: 9\n",
      "9 x 1 = 9\n",
      "9 x 2 = 18\n",
      "9 x 3 = 27\n",
      "9 x 4 = 36\n",
      "9 x 5 = 45\n",
      "9 x 6 = 54\n",
      "9 x 7 = 63\n",
      "9 x 8 = 72\n",
      "9 x 9 = 81\n",
      "9 x 10 = 90\n"
     ]
    }
   ],
   "source": [
    "print(\"B)\")\n",
    "num = int(input('Enter a number for your multiplication table: '))\n",
    "count = 1\n",
    "while count <= 10:\n",
    "    print(f'{num} x {count} = {num * count}')\n",
    "    count += 1"
   ]
  },
  {
   "cell_type": "markdown",
   "id": "010321a1",
   "metadata": {},
   "source": [
    "I still would use a for loop for this program, as again its complexity is not that advanced and a for loop can adequately satisfy its needs. "
   ]
  },
  {
   "cell_type": "markdown",
   "id": "a2aa67fe",
   "metadata": {},
   "source": [
    "Think about writing a program for which the user must enter a positive number. If they don't, the program should prompt them again until they do.\n",
    "\n",
    "Would you use a for loop or a while loop to do this? Why?"
   ]
  },
  {
   "cell_type": "markdown",
   "id": "a8df7ac1",
   "metadata": {},
   "source": [
    "I would use a while loop to do this as it lets you assign variables with true or false to indicate if you want the loop to run.\n",
    "If theres an input that satisfys the program, you can easily break the loop with 'break' or use 'continue' to get do input validation. "
   ]
  }
 ],
 "metadata": {
  "kernelspec": {
   "display_name": "Python 3 (ipykernel)",
   "language": "python",
   "name": "python3"
  },
  "language_info": {
   "codemirror_mode": {
    "name": "ipython",
    "version": 3
   },
   "file_extension": ".py",
   "mimetype": "text/x-python",
   "name": "python",
   "nbconvert_exporter": "python",
   "pygments_lexer": "ipython3",
   "version": "3.11.4"
  }
 },
 "nbformat": 4,
 "nbformat_minor": 5
}
