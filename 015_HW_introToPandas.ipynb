{
 "cells": [
  {
   "cell_type": "markdown",
   "metadata": {},
   "source": [
    "1. **Create a Series:**\n",
    "   - Create a Series named `fruits` with the data: 'apple', 'banana', 'cherry', 'date', and assign it an index of 'a', 'b', 'c', 'd' respectively.\n",
    "   - Print the Series.\n",
    "   - Print the `Index` of the series."
   ]
  },
  {
   "cell_type": "code",
   "execution_count": 1,
   "metadata": {},
   "outputs": [
    {
     "name": "stdout",
     "output_type": "stream",
     "text": [
      "Printed series: Fruits\n",
      "a     apple\n",
      "b    banana\n",
      "c    cherry\n",
      "d      data\n",
      "dtype: object\n",
      "\n",
      "Printed index of Fruits\n",
      "Index(['a', 'b', 'c', 'd'], dtype='object')\n"
     ]
    }
   ],
   "source": [
    "import pandas as pd\n",
    "fruits = pd.Series(['apple','banana','cherry','data' ], index = ['a', 'b','c','d'])\n",
    "print(\"Printed series: Fruits\")\n",
    "print(fruits)\n",
    "print()\n",
    "print(\"Printed index of Fruits\")\n",
    "print(fruits.index)"
   ]
  },
  {
   "cell_type": "markdown",
   "metadata": {},
   "source": [
    "2. **Accessing Elements:**\n",
    "   - Print the second  (\"b\") element of the `fruits` Series."
   ]
  },
  {
   "cell_type": "code",
   "execution_count": 2,
   "metadata": {},
   "outputs": [
    {
     "name": "stdout",
     "output_type": "stream",
     "text": [
      "banana\n"
     ]
    }
   ],
   "source": [
    "print(fruits['b'])"
   ]
  },
  {
   "cell_type": "markdown",
   "metadata": {},
   "source": [
    "3. **Series Operations:**\n",
    "   - Create a Series with the squares of the numbers 1 through 5. \n",
    "   - Add 10 to each item in the series (hint: there a *method* to this madness)."
   ]
  },
  {
   "cell_type": "code",
   "execution_count": 3,
   "metadata": {},
   "outputs": [
    {
     "name": "stdout",
     "output_type": "stream",
     "text": [
      "0    11\n",
      "1    14\n",
      "2    19\n",
      "3    26\n",
      "4    35\n",
      "dtype: int64\n"
     ]
    }
   ],
   "source": [
    "numbers = pd.Series([1,2,3,4,5])\n",
    "new = (numbers ** 2) + 10\n",
    "print(new)\n"
   ]
  },
  {
   "cell_type": "markdown",
   "metadata": {},
   "source": [
    "Create a DataFrame:\n",
    "\n",
    "Create a DataFrame named students with the columns: 'Name', 'Age', 'Grade'.\n",
    "Populate it with data for three fictional students."
   ]
  },
  {
   "cell_type": "code",
   "execution_count": 4,
   "metadata": {},
   "outputs": [
    {
     "name": "stdout",
     "output_type": "stream",
     "text": [
      "      Name  Age Grade\n",
      "0     Eric   18     A\n",
      "1     Anya   17     B\n",
      "2  Chelsea   16     C\n"
     ]
    }
   ],
   "source": [
    "data = [[\"Eric\", 18, 'A'], ['Anya', 17, 'B'], ['Chelsea', 16, 'C']]\n",
    "students = pd.DataFrame(data, columns = ['Name', 'Age', 'Grade'])\n",
    "print(students)"
   ]
  },
  {
   "cell_type": "markdown",
   "metadata": {},
   "source": [
    "Accessing Data:\n",
    "\n",
    "Print the Name column of the students DataFrame."
   ]
  },
  {
   "cell_type": "code",
   "execution_count": 5,
   "metadata": {},
   "outputs": [
    {
     "name": "stdout",
     "output_type": "stream",
     "text": [
      "0       Eric\n",
      "1       Anya\n",
      "2    Chelsea\n",
      "Name: Name, dtype: object\n"
     ]
    }
   ],
   "source": [
    "print(students['Name'])"
   ]
  },
  {
   "cell_type": "markdown",
   "metadata": {},
   "source": [
    "DataFrame Operations:\n",
    "\n",
    "Add a new column to the students DataFrame named Graduated, which should be True if the student's grade is 'A' and False otherwise.\n",
    "Print the updated DataFrame."
   ]
  },
  {
   "cell_type": "code",
   "execution_count": 27,
   "metadata": {},
   "outputs": [
    {
     "name": "stdout",
     "output_type": "stream",
     "text": [
      "      Name  Age Grade  Graduated\n",
      "0     Eric   18     A       True\n",
      "1     Anya   17     B      False\n",
      "2  Chelsea   16     C      False\n"
     ]
    }
   ],
   "source": [
    "new = [True, False, False]\n",
    "students[\"Graduated\"] = new\n",
    "print(students)"
   ]
  },
  {
   "cell_type": "markdown",
   "metadata": {},
   "source": [
    "Maths:\n",
    "\n",
    "Calculate and print the average age of the students."
   ]
  },
  {
   "cell_type": "code",
   "execution_count": 73,
   "metadata": {},
   "outputs": [
    {
     "name": "stdout",
     "output_type": "stream",
     "text": [
      "Average age:\n",
      "17.0\n"
     ]
    }
   ],
   "source": [
    "print(\"Average age:\")\n",
    "print(students[\"Age\"].mean())"
   ]
  },
  {
   "cell_type": "markdown",
   "metadata": {},
   "source": [
    "Sorting:\n",
    "\n",
    "Sort the students DataFrame based on the Age column in descending order and print it."
   ]
  },
  {
   "cell_type": "code",
   "execution_count": 76,
   "metadata": {},
   "outputs": [
    {
     "name": "stdout",
     "output_type": "stream",
     "text": [
      "      Name  Age Grade  Graduated\n",
      "0     Eric   18     A       True\n",
      "1     Anya   17     B      False\n",
      "2  Chelsea   16     C      False\n"
     ]
    }
   ],
   "source": [
    "students = students.sort_values('Age', ascending=False)\n",
    "print(students)"
   ]
  },
  {
   "cell_type": "markdown",
   "metadata": {},
   "source": [
    "Tidy Data.\n",
    "\n",
    "Re-make the cognitive health data frame from class so it is \"tidy\", with each column as variable and each row an observation.\n",
    "Compute the mean and standard deviation of all variables.\n",
    "Compute the mean and standard error for the happiness variable (there might even be a method for computing standard error...)."
   ]
  },
  {
   "cell_type": "code",
   "execution_count": 77,
   "metadata": {},
   "outputs": [
    {
     "data": {
      "text/html": [
       "<div>\n",
       "<style scoped>\n",
       "    .dataframe tbody tr th:only-of-type {\n",
       "        vertical-align: middle;\n",
       "    }\n",
       "\n",
       "    .dataframe tbody tr th {\n",
       "        vertical-align: top;\n",
       "    }\n",
       "\n",
       "    .dataframe thead th {\n",
       "        text-align: right;\n",
       "    }\n",
       "</style>\n",
       "<table border=\"1\" class=\"dataframe\">\n",
       "  <thead>\n",
       "    <tr style=\"text-align: right;\">\n",
       "      <th></th>\n",
       "      <th>happiness</th>\n",
       "      <th>language</th>\n",
       "      <th>energy</th>\n",
       "      <th>memory</th>\n",
       "    </tr>\n",
       "  </thead>\n",
       "  <tbody>\n",
       "    <tr>\n",
       "      <th>subject 1</th>\n",
       "      <td>10</td>\n",
       "      <td>2</td>\n",
       "      <td>5</td>\n",
       "      <td>3</td>\n",
       "    </tr>\n",
       "    <tr>\n",
       "      <th>subject 2</th>\n",
       "      <td>15</td>\n",
       "      <td>4</td>\n",
       "      <td>9</td>\n",
       "      <td>6</td>\n",
       "    </tr>\n",
       "    <tr>\n",
       "      <th>subject 3</th>\n",
       "      <td>18</td>\n",
       "      <td>7</td>\n",
       "      <td>12</td>\n",
       "      <td>9</td>\n",
       "    </tr>\n",
       "    <tr>\n",
       "      <th>subject 4</th>\n",
       "      <td>13</td>\n",
       "      <td>2</td>\n",
       "      <td>7</td>\n",
       "      <td>4</td>\n",
       "    </tr>\n",
       "  </tbody>\n",
       "</table>\n",
       "</div>"
      ],
      "text/plain": [
       "           happiness  language  energy  memory\n",
       "subject 1         10         2       5       3\n",
       "subject 2         15         4       9       6\n",
       "subject 3         18         7      12       9\n",
       "subject 4         13         2       7       4"
      ]
     },
     "execution_count": 77,
     "metadata": {},
     "output_type": "execute_result"
    }
   ],
   "source": [
    "\n",
    "happiness = {'subject 1':10,\n",
    "             \"subject 2\": 15,\n",
    "             'subject 3':15+3,\n",
    "             'subject 4':15-2}\n",
    "language = {'subject 1': 2,\n",
    "            \"subject 2\":4,\n",
    "            'subject 3': 4+3,\n",
    "            'subject 4':4-2}\n",
    "energy = {'subject 1': 5,\n",
    "          'subject 2':9,\n",
    "          'subject 3':9+3,\n",
    "          'subject 4':9-2}\n",
    "memory = {'subject 1': 3,\n",
    "          'subject 2':6,\n",
    "          'subject 3':6+3,\n",
    "          'subject 4':6-2}\n",
    "data = {'happiness':happiness, 'language':language, 'energy':energy, 'memory':memory}\n",
    "tidycoghealthdata = pd.DataFrame(data)\n",
    "tidycoghealthdata\n"
   ]
  },
  {
   "cell_type": "markdown",
   "metadata": {},
   "source": [
    "Compute the mean and standard deviation of all variables.\n"
   ]
  },
  {
   "cell_type": "code",
   "execution_count": 68,
   "metadata": {},
   "outputs": [
    {
     "name": "stdout",
     "output_type": "stream",
     "text": [
      "Mean:\n",
      "happiness    14.00\n",
      "language      3.75\n",
      "energy        8.25\n",
      "memory        5.50\n",
      "dtype: float64\n",
      "\n",
      "Standard Deviation:\n",
      "happiness    3.366502\n",
      "language     2.362908\n",
      "energy       2.986079\n",
      "memory       2.645751\n",
      "dtype: float64\n"
     ]
    }
   ],
   "source": [
    "print(\"Mean:\")\n",
    "print(tidycoghealthdata.mean())\n",
    "print()\n",
    "print(\"Standard Deviation:\")\n",
    "print(tidycoghealthdata.std())"
   ]
  },
  {
   "cell_type": "markdown",
   "metadata": {},
   "source": [
    "Compute the mean and standard error for the happiness variable (there might even be a method for computing standard error...)."
   ]
  },
  {
   "cell_type": "code",
   "execution_count": 78,
   "metadata": {},
   "outputs": [
    {
     "name": "stdout",
     "output_type": "stream",
     "text": [
      "Standard error of Happiness\n",
      "1.6832508230603465\n"
     ]
    }
   ],
   "source": [
    "print(\"Standard error of Happiness\")\n",
    "print(tidycoghealthdata[\"happiness\"].sem())"
   ]
  }
 ],
 "metadata": {
  "kernelspec": {
   "display_name": "Python 3 (ipykernel)",
   "language": "python",
   "name": "python3"
  },
  "language_info": {
   "codemirror_mode": {
    "name": "ipython",
    "version": 3
   },
   "file_extension": ".py",
   "mimetype": "text/x-python",
   "name": "python",
   "nbconvert_exporter": "python",
   "pygments_lexer": "ipython3",
   "version": "3.11.4"
  }
 },
 "nbformat": 4,
 "nbformat_minor": 2
}
