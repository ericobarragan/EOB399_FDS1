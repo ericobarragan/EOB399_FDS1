{
 "cells": [
  {
   "cell_type": "code",
   "execution_count": 1,
   "metadata": {},
   "outputs": [
    {
     "name": "stdout",
     "output_type": "stream",
     "text": [
      "miles_to_km function output:\n",
      "7056.96 kilometers\n"
     ]
    }
   ],
   "source": [
    "import unit_conversions as uc\n",
    "\n",
    "print(\"miles_to_km function output:\")\n",
    "x = uc.miles_to_km(4385)\n",
    "print(f'{x} kilometers')"
   ]
  },
  {
   "cell_type": "code",
   "execution_count": 2,
   "metadata": {},
   "outputs": [
    {
     "name": "stdout",
     "output_type": "stream",
     "text": [
      "km_to_miles function output:\n",
      "5242.52 miles\n"
     ]
    }
   ],
   "source": [
    "print(\"km_to_miles function output:\")\n",
    "x = uc.km_to_miles(8437)\n",
    "print(f'{x} miles')"
   ]
  },
  {
   "cell_type": "code",
   "execution_count": 3,
   "metadata": {},
   "outputs": [
    {
     "name": "stdout",
     "output_type": "stream",
     "text": [
      "fahrenheit_to_celsius function output:\n",
      "36° celsius\n"
     ]
    }
   ],
   "source": [
    "print(\"fahrenheit_to_celsius function output:\")\n",
    "x = uc.fahrenheit_to_celsius(96)\n",
    "print(f'{x}{chr(176)} celsius')"
   ]
  },
  {
   "cell_type": "code",
   "execution_count": 4,
   "metadata": {},
   "outputs": [
    {
     "name": "stdout",
     "output_type": "stream",
     "text": [
      "celsius_to_fahrenheit function output:\n",
      "73° fahrenheit\n"
     ]
    }
   ],
   "source": [
    "print(\"celsius_to_fahrenheit function output:\")\n",
    "x = uc.celsius_to_fahrenheit(23)\n",
    "print(f'{x}{chr(176)} fahrenheit')"
   ]
  },
  {
   "cell_type": "code",
   "execution_count": 5,
   "metadata": {},
   "outputs": [
    {
     "name": "stdout",
     "output_type": "stream",
     "text": [
      "kilograms_to_pounds function output:\n",
      "211.64 pounds\n"
     ]
    }
   ],
   "source": [
    "print(\"kilograms_to_pounds function output:\")\n",
    "x = uc.kilograms_to_pounds(96)\n",
    "print(f'{x} pounds')"
   ]
  },
  {
   "cell_type": "code",
   "execution_count": 6,
   "metadata": {},
   "outputs": [
    {
     "name": "stdout",
     "output_type": "stream",
     "text": [
      "pounds_to_kilograms function output:\n",
      "56.7 kilograms\n"
     ]
    }
   ],
   "source": [
    "print('pounds_to_kilograms function output:')\n",
    "x = uc.pounds_to_kilograms(125)\n",
    "print(f'{x} kilograms')"
   ]
  },
  {
   "cell_type": "code",
   "execution_count": 7,
   "metadata": {},
   "outputs": [
    {
     "name": "stdout",
     "output_type": "stream",
     "text": [
      "Pre import:\n",
      "6\n",
      "After import mylen:\n",
      "42\n",
      "After importing from mylen import len:\n",
      "42\n"
     ]
    }
   ],
   "source": [
    "\n",
    "print(\"Pre import:\")\n",
    "mylist = [2,3,1,5,6,7]\n",
    "print(len(mylist))\n",
    "\n",
    "import mylen\n",
    "\n",
    "print(\"After import mylen:\")\n",
    "x = mylen.len(1)\n",
    "print(x)\n",
    "print(\"After importing from mylen import len:\")\n",
    "from mylen import len\n",
    "x = len(mylist)\n",
    "print(x)"
   ]
  },
  {
   "cell_type": "markdown",
   "metadata": {},
   "source": [
    "It demonstrates that names of functions should not intermix with the already built in ones in python as it overrides the nature of the function. len() no longer returns the length of a variable, instead it was overwritten with giving the user 42 for every instance. "
   ]
  }
 ],
 "metadata": {
  "kernelspec": {
   "display_name": "Python 3 (ipykernel)",
   "language": "python",
   "name": "python3"
  },
  "language_info": {
   "codemirror_mode": {
    "name": "ipython",
    "version": 3
   },
   "file_extension": ".py",
   "mimetype": "text/x-python",
   "name": "python",
   "nbconvert_exporter": "python",
   "pygments_lexer": "ipython3",
   "version": "3.11.4"
  }
 },
 "nbformat": 4,
 "nbformat_minor": 2
}
